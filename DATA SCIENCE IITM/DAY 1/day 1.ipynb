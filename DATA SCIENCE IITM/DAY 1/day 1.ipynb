{
 "cells": [
  {
   "cell_type": "code",
   "execution_count": 1,
   "id": "7dec201b-0601-483b-89a9-02c87b3555c7",
   "metadata": {},
   "outputs": [
    {
     "name": "stdout",
     "output_type": "stream",
     "text": [
      "5678 <class 'int'>\n"
     ]
    }
   ],
   "source": [
    "a=5678\n",
    "print(a,type(a))\n"
   ]
  },
  {
   "cell_type": "code",
   "execution_count": 9,
   "id": "4c2fe04c-7bd8-466e-bfdf-1f577315677e",
   "metadata": {},
   "outputs": [],
   "source": [
    "def sound_box(paisa,platform='Paytm'):\n",
    "    text = f'''{platform} par {paisa} rs Prapt hue.'''\n",
    "    audio= gTTs(text)\n",
    "    audio.save('paytm.mp3')\n",
    "\n",
    "    import pygame as p\n",
    "    p.init()\n",
    "\n",
    "    music= p.mixer.Sound('paytm.mp3')\n",
    "    music.play()"
   ]
  },
  {
   "cell_type": "code",
   "execution_count": 4,
   "id": "5601fbe7-0fd7-4d9c-8b52-2cb42c58e68e",
   "metadata": {},
   "outputs": [
    {
     "data": {
      "text/plain": [
       "20"
      ]
     },
     "execution_count": 4,
     "metadata": {},
     "output_type": "execute_result"
    }
   ],
   "source": [
    "20\n"
   ]
  },
  {
   "cell_type": "code",
   "execution_count": 5,
   "id": "cd3ba290-9c94-4ca1-bfb8-caed32ad2f79",
   "metadata": {},
   "outputs": [
    {
     "data": {
      "text/plain": [
       "40"
      ]
     },
     "execution_count": 5,
     "metadata": {},
     "output_type": "execute_result"
    }
   ],
   "source": [
    "40"
   ]
  },
  {
   "cell_type": "code",
   "execution_count": 6,
   "id": "82e29c70-7cb0-4c71-9e03-22d9611538b9",
   "metadata": {},
   "outputs": [
    {
     "data": {
      "text/plain": [
       "77"
      ]
     },
     "execution_count": 6,
     "metadata": {},
     "output_type": "execute_result"
    }
   ],
   "source": [
    "77"
   ]
  },
  {
   "cell_type": "code",
   "execution_count": 7,
   "id": "4f28f8a3-272b-4100-a03c-5ad18c243d0f",
   "metadata": {},
   "outputs": [
    {
     "data": {
      "text/plain": [
       "500"
      ]
     },
     "execution_count": 7,
     "metadata": {},
     "output_type": "execute_result"
    }
   ],
   "source": [
    "500"
   ]
  },
  {
   "cell_type": "code",
   "execution_count": 8,
   "id": "43103a5a-ebee-43e2-b33b-e5289ecca0b4",
   "metadata": {},
   "outputs": [
    {
     "data": {
      "text/plain": [
       "100"
      ]
     },
     "execution_count": 8,
     "metadata": {},
     "output_type": "execute_result"
    }
   ],
   "source": [
    "100"
   ]
  },
  {
   "cell_type": "code",
   "execution_count": 10,
   "id": "be946e21-2ab6-4059-8d28-6398aaeb8e21",
   "metadata": {},
   "outputs": [
    {
     "data": {
      "text/plain": [
       "500"
      ]
     },
     "execution_count": 10,
     "metadata": {},
     "output_type": "execute_result"
    }
   ],
   "source": [
    "500"
   ]
  },
  {
   "cell_type": "code",
   "execution_count": 11,
   "id": "63b49d97-dd0b-4b31-8d98-95f0bfd80d38",
   "metadata": {},
   "outputs": [
    {
     "ename": "SyntaxError",
     "evalue": "invalid syntax (4137933030.py, line 1)",
     "output_type": "error",
     "traceback": [
      "\u001b[1;36m  Cell \u001b[1;32mIn[11], line 1\u001b[1;36m\u001b[0m\n\u001b[1;33m    def sound_box(100)\u001b[0m\n\u001b[1;37m                  ^\u001b[0m\n\u001b[1;31mSyntaxError\u001b[0m\u001b[1;31m:\u001b[0m invalid syntax\n"
     ]
    }
   ],
   "source": [
    "def sound_box(100)"
   ]
  },
  {
   "cell_type": "markdown",
   "id": "21d941ce-0eb8-4098-9397-54383938b320",
   "metadata": {},
   "source": [
    "sound_box(50,'Paytm')"
   ]
  },
  {
   "cell_type": "code",
   "execution_count": 12,
   "id": "1c714975-d37b-4cda-92c3-f559ae6c3b73",
   "metadata": {},
   "outputs": [
    {
     "ename": "NameError",
     "evalue": "name 'gTTs' is not defined",
     "output_type": "error",
     "traceback": [
      "\u001b[1;31m---------------------------------------------------------------------------\u001b[0m",
      "\u001b[1;31mNameError\u001b[0m                                 Traceback (most recent call last)",
      "Cell \u001b[1;32mIn[12], line 1\u001b[0m\n\u001b[1;32m----> 1\u001b[0m sound_box(\u001b[38;5;241m50\u001b[39m,\u001b[38;5;124m'\u001b[39m\u001b[38;5;124mPaytm\u001b[39m\u001b[38;5;124m'\u001b[39m)\n",
      "Cell \u001b[1;32mIn[9], line 3\u001b[0m, in \u001b[0;36msound_box\u001b[1;34m(paisa, platform)\u001b[0m\n\u001b[0;32m      1\u001b[0m \u001b[38;5;28;01mdef\u001b[39;00m\u001b[38;5;250m \u001b[39m\u001b[38;5;21msound_box\u001b[39m(paisa,platform\u001b[38;5;241m=\u001b[39m\u001b[38;5;124m'\u001b[39m\u001b[38;5;124mPaytm\u001b[39m\u001b[38;5;124m'\u001b[39m):\n\u001b[0;32m      2\u001b[0m     text \u001b[38;5;241m=\u001b[39m \u001b[38;5;124mf\u001b[39m\u001b[38;5;124m'''\u001b[39m\u001b[38;5;132;01m{\u001b[39;00mplatform\u001b[38;5;132;01m}\u001b[39;00m\u001b[38;5;124m par \u001b[39m\u001b[38;5;132;01m{\u001b[39;00mpaisa\u001b[38;5;132;01m}\u001b[39;00m\u001b[38;5;124m rs Prapt hue.\u001b[39m\u001b[38;5;124m'''\u001b[39m\n\u001b[1;32m----> 3\u001b[0m     audio\u001b[38;5;241m=\u001b[39m gTTs(text)\n\u001b[0;32m      4\u001b[0m     audio\u001b[38;5;241m.\u001b[39msave(\u001b[38;5;124m'\u001b[39m\u001b[38;5;124mpaytm.mp3\u001b[39m\u001b[38;5;124m'\u001b[39m)\n\u001b[0;32m      6\u001b[0m     \u001b[38;5;28;01mimport\u001b[39;00m\u001b[38;5;250m \u001b[39m\u001b[38;5;21;01mpygame\u001b[39;00m\u001b[38;5;250m \u001b[39m\u001b[38;5;28;01mas\u001b[39;00m\u001b[38;5;250m \u001b[39m\u001b[38;5;21;01mp\u001b[39;00m\n",
      "\u001b[1;31mNameError\u001b[0m: name 'gTTs' is not defined"
     ]
    }
   ],
   "source": [
    "sound_box(50,'Paytm')"
   ]
  },
  {
   "cell_type": "code",
   "execution_count": null,
   "id": "f16fa99d-c992-4f63-bc6a-5fb1c4e5d731",
   "metadata": {},
   "outputs": [],
   "source": []
  }
 ],
 "metadata": {
  "kernelspec": {
   "display_name": "Python 3 (ipykernel)",
   "language": "python",
   "name": "python3"
  },
  "language_info": {
   "codemirror_mode": {
    "name": "ipython",
    "version": 3
   },
   "file_extension": ".py",
   "mimetype": "text/x-python",
   "name": "python",
   "nbconvert_exporter": "python",
   "pygments_lexer": "ipython3",
   "version": "3.13.5"
  }
 },
 "nbformat": 4,
 "nbformat_minor": 5
}
