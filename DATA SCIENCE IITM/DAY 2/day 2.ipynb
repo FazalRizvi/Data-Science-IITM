{
 "cells": [
  {
   "cell_type": "code",
   "execution_count": 3,
   "id": "7072d340-e42b-4b7d-a6c8-6f198bf6c9da",
   "metadata": {},
   "outputs": [],
   "source": [
    "#Functional Programming"
   ]
  },
  {
   "cell_type": "code",
   "execution_count": 4,
   "id": "0e2bbeba-9b5e-4239-b030-966ab4b855c2",
   "metadata": {},
   "outputs": [],
   "source": [
    "def check_palindrome(word):\n",
    "    return word"
   ]
  },
  {
   "cell_type": "code",
   "execution_count": 5,
   "id": "fa81ba55-836b-4f78-ad50-03b9daf26035",
   "metadata": {},
   "outputs": [
    {
     "data": {
      "text/plain": [
       "'Ajay'"
      ]
     },
     "execution_count": 5,
     "metadata": {},
     "output_type": "execute_result"
    }
   ],
   "source": [
    "check_palindrome('Ajay')"
   ]
  },
  {
   "cell_type": "code",
   "execution_count": 6,
   "id": "37bb7e30-172d-44b1-bec3-971fcbf4a3df",
   "metadata": {},
   "outputs": [
    {
     "data": {
      "text/plain": [
       "'ykcul'"
      ]
     },
     "execution_count": 6,
     "metadata": {},
     "output_type": "execute_result"
    }
   ],
   "source": [
    "a='lucky'\n",
    "a[::-1]"
   ]
  },
  {
   "cell_type": "code",
   "execution_count": 13,
   "id": "dcf8e665-f335-471a-95db-bcc9c480aa43",
   "metadata": {},
   "outputs": [
    {
     "name": "stdout",
     "output_type": "stream",
     "text": [
      "nitin is a Palindrome\n"
     ]
    }
   ],
   "source": [
    "a='nitin'\n",
    "\n",
    "if a==a[::-1]:\n",
    "    print(f'{a} is a Palindrome')\n",
    "else:\n",
    "    print(f'{a} is Not a Palindrome')"
   ]
  },
  {
   "cell_type": "code",
   "execution_count": 24,
   "id": "73c9e27d-80a0-49d8-bfea-b1a4589f606c",
   "metadata": {},
   "outputs": [],
   "source": [
    "def check_palindrome(word:str):\n",
    "    if type(word)==str:\n",
    "        word= word.upper()\n",
    "        if word== word[::-1]:\n",
    "            return'Palindrome'\n",
    "        else:\n",
    "            return 'Not a Palindrome'\n",
    "    else:\n",
    "        return'Invalid Data Type'"
   ]
  },
  {
   "cell_type": "code",
   "execution_count": 26,
   "id": "29b6651b-2aa2-4a60-924e-493c487b23c3",
   "metadata": {},
   "outputs": [
    {
     "data": {
      "text/plain": [
       "'Palindrome'"
      ]
     },
     "execution_count": 26,
     "metadata": {},
     "output_type": "execute_result"
    }
   ],
   "source": [
    "check_palindrome('pop')"
   ]
  },
  {
   "cell_type": "code",
   "execution_count": 36,
   "id": "817cf1eb-0927-45ee-b820-4d81f260fefd",
   "metadata": {},
   "outputs": [],
   "source": [
    "def give_fibo(n):\n",
    "    fibo=[0,1]\n",
    "    for i in range(n-2):\n",
    "        last_num= fibo[-1]\n",
    "        second_last_num= fibo[-2]\n",
    "        next_num= last_num + second_last_num\n",
    "        fibo.append(next_num)\n",
    "    return fibo"
   ]
  },
  {
   "cell_type": "code",
   "execution_count": 37,
   "id": "bb92cf0a-7355-4e29-afbe-92db23704c4a",
   "metadata": {},
   "outputs": [
    {
     "name": "stdout",
     "output_type": "stream",
     "text": [
      "[0, 1, 1, 2, 3, 5, 8, 13, 21, 34]\n"
     ]
    }
   ],
   "source": [
    "print(give_fibo(10))"
   ]
  },
  {
   "cell_type": "code",
   "execution_count": 38,
   "id": "721ee5a6-737f-43f3-9c31-628e0b50265f",
   "metadata": {},
   "outputs": [],
   "source": [
    "#prime number"
   ]
  },
  {
   "cell_type": "code",
   "execution_count": 172,
   "id": "061083dc-a2f6-4393-a6f0-315510998849",
   "metadata": {},
   "outputs": [],
   "source": [
    "def check_prime(number):\n",
    "    for i in range(2,number):\n",
    "        if number % i==0:\n",
    "            return 'Not a Prime Number'\n",
    "            break\n",
    "    else:  \n",
    "        return'Prime Number'\n"
   ]
  },
  {
   "cell_type": "code",
   "execution_count": 170,
   "id": "1f717f37-a6ef-4415-b0bc-3ed2b30127fa",
   "metadata": {},
   "outputs": [
    {
     "data": {
      "text/plain": [
       "'Not a Prime Number'"
      ]
     },
     "execution_count": 170,
     "metadata": {},
     "output_type": "execute_result"
    }
   ],
   "source": [
    "check_prime(78)"
   ]
  },
  {
   "cell_type": "code",
   "execution_count": 54,
   "id": "c338035b-7f73-47b1-82bc-fbd4c3f2f826",
   "metadata": {},
   "outputs": [],
   "source": [
    "#pattern"
   ]
  },
  {
   "cell_type": "code",
   "execution_count": 58,
   "id": "d5dbcea1-6b88-441b-ab0e-1a0ce1e312d7",
   "metadata": {},
   "outputs": [
    {
     "name": "stdout",
     "output_type": "stream",
     "text": [
      "* \n",
      "* * \n",
      "* * * \n",
      "* * * * \n",
      "* * * * * \n"
     ]
    }
   ],
   "source": [
    "n=5\n",
    "for i in range(1,n+1):\n",
    "    print(i*'* ')"
   ]
  },
  {
   "cell_type": "code",
   "execution_count": 69,
   "id": "158b3d6e-c633-4cf3-9bd6-832c38732c59",
   "metadata": {},
   "outputs": [
    {
     "name": "stdout",
     "output_type": "stream",
     "text": [
      "    * \n",
      "   * * \n",
      "  * * * \n",
      " * * * * \n",
      "* * * * * \n"
     ]
    }
   ],
   "source": [
    "n=5\n",
    "for i in range(1,n+1):\n",
    "    print(' '*(n-i)+i*'* ')"
   ]
  },
  {
   "cell_type": "code",
   "execution_count": 95,
   "id": "03ac2466-ec76-41c9-8cac-5ccf6e1b5fe1",
   "metadata": {},
   "outputs": [],
   "source": [
    "def print_star(n=5,typ= 'left',shape='*'):\n",
    "    if typ == 'left':\n",
    "            space=''\n",
    "            \n",
    "    elif typ == 'right':\n",
    "                    space='  '\n",
    "                     \n",
    "    elif typ == 'mid':\n",
    "                    space=' '\n",
    "        \n",
    "    for i in range(1,n+1):\n",
    "             print(' '*(n-i)+i*f'{shape} ')"
   ]
  },
  {
   "cell_type": "code",
   "execution_count": 74,
   "id": "2404bde6-8192-44ca-8b8f-be6ea84afa68",
   "metadata": {},
   "outputs": [
    {
     "name": "stdout",
     "output_type": "stream",
     "text": [
      "     * \n",
      "    * * \n",
      "   * * * \n",
      "  * * * * \n",
      " * * * * * \n",
      "* * * * * * \n"
     ]
    }
   ],
   "source": []
  },
  {
   "cell_type": "code",
   "execution_count": 96,
   "id": "62aa43c6-1251-48e6-8a1e-393e12c20ae1",
   "metadata": {},
   "outputs": [
    {
     "name": "stdout",
     "output_type": "stream",
     "text": [
      "    * \n",
      "   * * \n",
      "  * * * \n",
      " * * * * \n",
      "* * * * * \n"
     ]
    }
   ],
   "source": [
    "print_star()"
   ]
  },
  {
   "cell_type": "code",
   "execution_count": 99,
   "id": "d95a7332-5793-43bc-af2d-98b7485f2ce0",
   "metadata": {},
   "outputs": [
    {
     "name": "stdout",
     "output_type": "stream",
     "text": [
      "     VIPS \n",
      "    VIPS VIPS \n",
      "   VIPS VIPS VIPS \n",
      "  VIPS VIPS VIPS VIPS \n",
      " VIPS VIPS VIPS VIPS VIPS \n",
      "VIPS VIPS VIPS VIPS VIPS VIPS \n"
     ]
    }
   ],
   "source": [
    "print_star(6,'mid','VIPS')"
   ]
  },
  {
   "cell_type": "code",
   "execution_count": 100,
   "id": "21850e22-ec04-4228-b538-7a80ee62ce6f",
   "metadata": {},
   "outputs": [],
   "source": [
    "#SUM OF NATURAL NUMBERS"
   ]
  },
  {
   "cell_type": "code",
   "execution_count": 104,
   "id": "58788b6f-bdf6-4085-941a-48829277a48b",
   "metadata": {},
   "outputs": [],
   "source": [
    "def sum_of_n_natural_numbers(n):\n",
    "    result = 0\n",
    "    for i in range(1,n+1):\n",
    "        result+=i\n",
    "    return result   "
   ]
  },
  {
   "cell_type": "code",
   "execution_count": 105,
   "id": "b67c463f-c5f7-49ea-a80e-734911052c77",
   "metadata": {},
   "outputs": [
    {
     "data": {
      "text/plain": [
       "210"
      ]
     },
     "execution_count": 105,
     "metadata": {},
     "output_type": "execute_result"
    }
   ],
   "source": [
    "sum_of_n_natural_numbers(20)"
   ]
  },
  {
   "cell_type": "code",
   "execution_count": 109,
   "id": "5fee915d-d6fd-404a-aaca-76ef8117f5e2",
   "metadata": {},
   "outputs": [],
   "source": [
    "def factorial(n):\n",
    "    result=1\n",
    "    for i in range(1,n+1):\n",
    "            result*=i\n",
    "    return result\n",
    "            \n"
   ]
  },
  {
   "cell_type": "code",
   "execution_count": 110,
   "id": "683a651b-29dd-4a2d-89f8-c02e1c2e156f",
   "metadata": {},
   "outputs": [
    {
     "data": {
      "text/plain": [
       "3628800"
      ]
     },
     "execution_count": 110,
     "metadata": {},
     "output_type": "execute_result"
    }
   ],
   "source": [
    "factorial(10)"
   ]
  },
  {
   "cell_type": "code",
   "execution_count": 111,
   "id": "6e488f5b-090e-4c8c-a6c0-e6328637ace7",
   "metadata": {},
   "outputs": [],
   "source": [
    "def total_sales(*args):\n",
    "    #unpacking\n",
    "    print(args)\n",
    "    "
   ]
  },
  {
   "cell_type": "code",
   "execution_count": 113,
   "id": "bf0441d1-c169-41bb-b2bd-32eeb0c5bbc9",
   "metadata": {},
   "outputs": [
    {
     "name": "stdout",
     "output_type": "stream",
     "text": [
      "(1, 2, 4, 69, 5, 77)\n"
     ]
    }
   ],
   "source": [
    "total_sales(1,2,4,69,5,77)"
   ]
  },
  {
   "cell_type": "code",
   "execution_count": 114,
   "id": "81bf0955-aa17-44fd-b4f5-c0e12733dbbd",
   "metadata": {},
   "outputs": [],
   "source": [
    "def total_sales(*args):\n",
    "     #unpacking\n",
    "     result=0\n",
    "     for i in args:\n",
    "            result+= i \n",
    "     return result"
   ]
  },
  {
   "cell_type": "code",
   "execution_count": 115,
   "id": "92aad126-9ae2-4505-8bc2-0d389c483b2b",
   "metadata": {},
   "outputs": [
    {
     "data": {
      "text/plain": [
       "206"
      ]
     },
     "execution_count": 115,
     "metadata": {},
     "output_type": "execute_result"
    }
   ],
   "source": [
    "total_sales(1,2,5,66,33,99)"
   ]
  },
  {
   "cell_type": "code",
   "execution_count": 119,
   "id": "05e41dc4-877d-4b71-8cf5-b43b0ddcc4fc",
   "metadata": {},
   "outputs": [],
   "source": [
    "sales=[435,556,727,342,68,238,248]\n",
    "#min(sales)"
   ]
  },
  {
   "cell_type": "code",
   "execution_count": 130,
   "id": "e75f21a0-5824-4626-bd85-80e79a58389c",
   "metadata": {},
   "outputs": [
    {
     "name": "stdout",
     "output_type": "stream",
     "text": [
      "68\n"
     ]
    }
   ],
   "source": [
    "sales=[435,556,727,342,68,238,248]\n",
    "min_element= sales[0]\n",
    "\n",
    "for i in sales[1:]:\n",
    "  if i< min_element:\n",
    "     min_element=i\n",
    "print(min_element)"
   ]
  },
  {
   "cell_type": "code",
   "execution_count": 131,
   "id": "fa827791-8836-48ce-9992-7d8d047b0372",
   "metadata": {},
   "outputs": [
    {
     "name": "stdout",
     "output_type": "stream",
     "text": [
      "727\n"
     ]
    }
   ],
   "source": [
    "max_element=sales[0]\n",
    "for i in sales[1:]:\n",
    "    if i>max_element:\n",
    "        max_element=i\n",
    "print(max_element)"
   ]
  },
  {
   "cell_type": "code",
   "execution_count": 138,
   "id": "c2b6314a-abc8-4cc2-ad91-371786279768",
   "metadata": {},
   "outputs": [
    {
     "name": "stdout",
     "output_type": "stream",
     "text": [
      "727\n"
     ]
    }
   ],
   "source": [
    "def max_sales(*sales):\n",
    " sales=list(sales)\n",
    " max_element=sales[0]\n",
    "for i in sales[1:]:\n",
    "    if i>max_element:\n",
    "        max_element=i\n",
    "print(max_element)"
   ]
  },
  {
   "cell_type": "code",
   "execution_count": 139,
   "id": "1af5d913-092d-480f-a5df-fb3af098f16d",
   "metadata": {},
   "outputs": [
    {
     "ename": "TypeError",
     "evalue": "'list' object is not callable",
     "output_type": "error",
     "traceback": [
      "\u001b[1;31m---------------------------------------------------------------------------\u001b[0m",
      "\u001b[1;31mTypeError\u001b[0m                                 Traceback (most recent call last)",
      "Cell \u001b[1;32mIn[139], line 1\u001b[0m\n\u001b[1;32m----> 1\u001b[0m sales(\u001b[38;5;241m5555\u001b[39m,\u001b[38;5;241m2738\u001b[39m,\u001b[38;5;241m328\u001b[39m,\u001b[38;5;241m239\u001b[39m)\n",
      "\u001b[1;31mTypeError\u001b[0m: 'list' object is not callable"
     ]
    }
   ],
   "source": [
    "sales(5555,2738,328,239)"
   ]
  },
  {
   "cell_type": "code",
   "execution_count": 143,
   "id": "1810621d-4acc-4875-84b8-c09976f1eb11",
   "metadata": {},
   "outputs": [],
   "source": [
    "def min(*data):\n",
    "    min_ele=data[0]\n",
    "    for i in data[1:]:\n",
    "        if i<min_ele:\n",
    "            min_ele=i\n",
    "    return min_ele"
   ]
  },
  {
   "cell_type": "code",
   "execution_count": 144,
   "id": "52715d4e-03b8-4dcd-ae1f-465bde172675",
   "metadata": {},
   "outputs": [
    {
     "data": {
      "text/plain": [
       "239"
      ]
     },
     "execution_count": 144,
     "metadata": {},
     "output_type": "execute_result"
    }
   ],
   "source": [
    "min(5555,2738,328,239)"
   ]
  },
  {
   "cell_type": "code",
   "execution_count": 145,
   "id": "18f2b4ed-6d1f-44b7-9680-277715d8209a",
   "metadata": {},
   "outputs": [],
   "source": [
    "def max(*data):\n",
    "    max_ele=data[0]\n",
    "    for i in data[1:]:\n",
    "        if i>max_ele:\n",
    "            max_ele=i\n",
    "    return max_ele"
   ]
  },
  {
   "cell_type": "code",
   "execution_count": 146,
   "id": "a065984f-b7fb-4ef4-a651-38d594fe4ba6",
   "metadata": {},
   "outputs": [
    {
     "data": {
      "text/plain": [
       "5555"
      ]
     },
     "execution_count": 146,
     "metadata": {},
     "output_type": "execute_result"
    }
   ],
   "source": [
    "max(5555,2738,328,239)"
   ]
  },
  {
   "cell_type": "code",
   "execution_count": 147,
   "id": "a2a7aeb6-f8ec-40b3-b932-105e6a15b23e",
   "metadata": {},
   "outputs": [],
   "source": [
    "company=['ola','uber','rapido','indrive','adani','tata']\n",
    "\n",
    "def add_hashtag(*company):\n",
    "    result=[]\n",
    "    for i in company:\n",
    "        result.append('#'+i.upper())\n",
    "    return result"
   ]
  },
  {
   "cell_type": "code",
   "execution_count": 149,
   "id": "e8733123-fa8c-4157-8a12-893cb62ac334",
   "metadata": {},
   "outputs": [
    {
     "data": {
      "text/plain": [
       "['#APPLE']"
      ]
     },
     "execution_count": 149,
     "metadata": {},
     "output_type": "execute_result"
    }
   ],
   "source": [
    "add_hashtag('apple')"
   ]
  },
  {
   "cell_type": "code",
   "execution_count": 150,
   "id": "c39d3653-daa7-48a0-abe4-47d6a6642bef",
   "metadata": {},
   "outputs": [
    {
     "data": {
      "text/plain": [
       "['#OLA', '#UBER', '#RAPIDO', '#INDRIVE', '#ADANI', '#TATA']"
      ]
     },
     "execution_count": 150,
     "metadata": {},
     "output_type": "execute_result"
    }
   ],
   "source": [
    "add_hashtag(*company)"
   ]
  },
  {
   "cell_type": "code",
   "execution_count": 153,
   "id": "fcb54a4e-101f-4d40-bd78-3c4b56754c64",
   "metadata": {},
   "outputs": [],
   "source": [
    "def store_records(name,age,sec,roll_no,Class):\n",
    "    data={'Name':name,'Age':age,'Sec':sec,'Roll_NO':roll_no,'Class':Class}\n",
    "    import pandas as pd\n",
    "    result=pd.DataFrame(data,index=[1])\n",
    "    return result\n",
    "    "
   ]
  },
  {
   "cell_type": "code",
   "execution_count": 156,
   "id": "60968762-d5b8-45eb-b161-0003eb40ea07",
   "metadata": {},
   "outputs": [
    {
     "data": {
      "text/html": [
       "<div>\n",
       "<style scoped>\n",
       "    .dataframe tbody tr th:only-of-type {\n",
       "        vertical-align: middle;\n",
       "    }\n",
       "\n",
       "    .dataframe tbody tr th {\n",
       "        vertical-align: top;\n",
       "    }\n",
       "\n",
       "    .dataframe thead th {\n",
       "        text-align: right;\n",
       "    }\n",
       "</style>\n",
       "<table border=\"1\" class=\"dataframe\">\n",
       "  <thead>\n",
       "    <tr style=\"text-align: right;\">\n",
       "      <th></th>\n",
       "      <th>Name</th>\n",
       "      <th>Age</th>\n",
       "      <th>Sec</th>\n",
       "      <th>Roll_NO</th>\n",
       "      <th>Class</th>\n",
       "    </tr>\n",
       "  </thead>\n",
       "  <tbody>\n",
       "    <tr>\n",
       "      <th>1</th>\n",
       "      <td>Samdish</td>\n",
       "      <td>20</td>\n",
       "      <td>A</td>\n",
       "      <td>12</td>\n",
       "      <td>12</td>\n",
       "    </tr>\n",
       "  </tbody>\n",
       "</table>\n",
       "</div>"
      ],
      "text/plain": [
       "      Name  Age Sec  Roll_NO  Class\n",
       "1  Samdish   20   A       12     12"
      ]
     },
     "execution_count": 156,
     "metadata": {},
     "output_type": "execute_result"
    }
   ],
   "source": [
    "store_records('Samdish',20,'A',12,12)"
   ]
  },
  {
   "cell_type": "code",
   "execution_count": 158,
   "id": "37a5cf24-0207-42c9-bd68-16f94ad055d2",
   "metadata": {},
   "outputs": [
    {
     "data": {
      "text/html": [
       "<div>\n",
       "<style scoped>\n",
       "    .dataframe tbody tr th:only-of-type {\n",
       "        vertical-align: middle;\n",
       "    }\n",
       "\n",
       "    .dataframe tbody tr th {\n",
       "        vertical-align: top;\n",
       "    }\n",
       "\n",
       "    .dataframe thead th {\n",
       "        text-align: right;\n",
       "    }\n",
       "</style>\n",
       "<table border=\"1\" class=\"dataframe\">\n",
       "  <thead>\n",
       "    <tr style=\"text-align: right;\">\n",
       "      <th></th>\n",
       "      <th>Name</th>\n",
       "      <th>Age</th>\n",
       "      <th>Sec</th>\n",
       "      <th>Roll_NO</th>\n",
       "      <th>Class</th>\n",
       "    </tr>\n",
       "  </thead>\n",
       "  <tbody>\n",
       "    <tr>\n",
       "      <th>1</th>\n",
       "      <td>Samdish</td>\n",
       "      <td>20</td>\n",
       "      <td>A</td>\n",
       "      <td>12</td>\n",
       "      <td>12</td>\n",
       "    </tr>\n",
       "  </tbody>\n",
       "</table>\n",
       "</div>"
      ],
      "text/plain": [
       "      Name  Age Sec  Roll_NO  Class\n",
       "1  Samdish   20   A       12     12"
      ]
     },
     "metadata": {},
     "output_type": "display_data"
    },
    {
     "data": {
      "text/html": [
       "<div>\n",
       "<style scoped>\n",
       "    .dataframe tbody tr th:only-of-type {\n",
       "        vertical-align: middle;\n",
       "    }\n",
       "\n",
       "    .dataframe tbody tr th {\n",
       "        vertical-align: top;\n",
       "    }\n",
       "\n",
       "    .dataframe thead th {\n",
       "        text-align: right;\n",
       "    }\n",
       "</style>\n",
       "<table border=\"1\" class=\"dataframe\">\n",
       "  <thead>\n",
       "    <tr style=\"text-align: right;\">\n",
       "      <th></th>\n",
       "      <th>Name</th>\n",
       "      <th>Age</th>\n",
       "      <th>Sec</th>\n",
       "      <th>Roll_NO</th>\n",
       "      <th>Class</th>\n",
       "    </tr>\n",
       "  </thead>\n",
       "  <tbody>\n",
       "    <tr>\n",
       "      <th>1</th>\n",
       "      <td>Rachit</td>\n",
       "      <td>20</td>\n",
       "      <td>A</td>\n",
       "      <td>12</td>\n",
       "      <td>12</td>\n",
       "    </tr>\n",
       "  </tbody>\n",
       "</table>\n",
       "</div>"
      ],
      "text/plain": [
       "     Name  Age Sec  Roll_NO  Class\n",
       "1  Rachit   20   A       12     12"
      ]
     },
     "metadata": {},
     "output_type": "display_data"
    },
    {
     "data": {
      "text/html": [
       "<div>\n",
       "<style scoped>\n",
       "    .dataframe tbody tr th:only-of-type {\n",
       "        vertical-align: middle;\n",
       "    }\n",
       "\n",
       "    .dataframe tbody tr th {\n",
       "        vertical-align: top;\n",
       "    }\n",
       "\n",
       "    .dataframe thead th {\n",
       "        text-align: right;\n",
       "    }\n",
       "</style>\n",
       "<table border=\"1\" class=\"dataframe\">\n",
       "  <thead>\n",
       "    <tr style=\"text-align: right;\">\n",
       "      <th></th>\n",
       "      <th>Name</th>\n",
       "      <th>Age</th>\n",
       "      <th>Sec</th>\n",
       "      <th>Roll_NO</th>\n",
       "      <th>Class</th>\n",
       "    </tr>\n",
       "  </thead>\n",
       "  <tbody>\n",
       "    <tr>\n",
       "      <th>1</th>\n",
       "      <td>Yash</td>\n",
       "      <td>20</td>\n",
       "      <td>A</td>\n",
       "      <td>12</td>\n",
       "      <td>12</td>\n",
       "    </tr>\n",
       "  </tbody>\n",
       "</table>\n",
       "</div>"
      ],
      "text/plain": [
       "   Name  Age Sec  Roll_NO  Class\n",
       "1  Yash   20   A       12     12"
      ]
     },
     "metadata": {},
     "output_type": "display_data"
    }
   ],
   "source": [
    "display(store_records('Samdish',20,'A',12,12))\n",
    "display(store_records('Rachit',20,'A',12,12))\n",
    "display(store_records('Yash',20,'A',12,12))"
   ]
  },
  {
   "cell_type": "code",
   "execution_count": 163,
   "id": "77deff4b-fc93-44dd-9810-70fa0ef09480",
   "metadata": {},
   "outputs": [],
   "source": [
    "def students_records(**kwargs):\n",
    "    import pandas as pd\n",
    "    result=pd.DataFrame(kwargs,index=[1])\n",
    "    return result"
   ]
  },
  {
   "cell_type": "code",
   "execution_count": 164,
   "id": "83f3b3b4-dc13-4249-a89b-ea8ea7c7729d",
   "metadata": {},
   "outputs": [
    {
     "data": {
      "text/html": [
       "<div>\n",
       "<style scoped>\n",
       "    .dataframe tbody tr th:only-of-type {\n",
       "        vertical-align: middle;\n",
       "    }\n",
       "\n",
       "    .dataframe tbody tr th {\n",
       "        vertical-align: top;\n",
       "    }\n",
       "\n",
       "    .dataframe thead th {\n",
       "        text-align: right;\n",
       "    }\n",
       "</style>\n",
       "<table border=\"1\" class=\"dataframe\">\n",
       "  <thead>\n",
       "    <tr style=\"text-align: right;\">\n",
       "      <th></th>\n",
       "      <th>Name</th>\n",
       "      <th>Age</th>\n",
       "      <th>sec</th>\n",
       "      <th>Roll_No</th>\n",
       "      <th>Address</th>\n",
       "    </tr>\n",
       "  </thead>\n",
       "  <tbody>\n",
       "    <tr>\n",
       "      <th>1</th>\n",
       "      <td>Fazal</td>\n",
       "      <td>20</td>\n",
       "      <td>E2</td>\n",
       "      <td>62</td>\n",
       "      <td>Delhi</td>\n",
       "    </tr>\n",
       "  </tbody>\n",
       "</table>\n",
       "</div>"
      ],
      "text/plain": [
       "    Name  Age sec  Roll_No Address\n",
       "1  Fazal   20  E2       62   Delhi"
      ]
     },
     "execution_count": 164,
     "metadata": {},
     "output_type": "execute_result"
    }
   ],
   "source": [
    "students_records(Name='Fazal',Age=20,sec='E2',Roll_No=62,Address='Delhi')"
   ]
  },
  {
   "cell_type": "code",
   "execution_count": null,
   "id": "4cf13f2d-b291-4e25-b68f-1db3071ad279",
   "metadata": {},
   "outputs": [],
   "source": []
  }
 ],
 "metadata": {
  "kernelspec": {
   "display_name": "Python 3 (ipykernel)",
   "language": "python",
   "name": "python3"
  },
  "language_info": {
   "codemirror_mode": {
    "name": "ipython",
    "version": 3
   },
   "file_extension": ".py",
   "mimetype": "text/x-python",
   "name": "python",
   "nbconvert_exporter": "python",
   "pygments_lexer": "ipython3",
   "version": "3.13.5"
  }
 },
 "nbformat": 4,
 "nbformat_minor": 5
}
