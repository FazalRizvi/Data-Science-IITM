{
 "cells": [
  {
   "cell_type": "code",
   "execution_count": 3,
   "id": "2937cf03-2b30-43d8-9fb7-f0e2aea82a3f",
   "metadata": {},
   "outputs": [],
   "source": [
    "#File Handling Part 2\n",
    "# Requests Module Example\n",
    "#OOPs and Pillars\n",
    "#Python to DB Connectivity!!"
   ]
  },
  {
   "cell_type": "code",
   "execution_count": null,
   "id": "58fbb334-4f18-43da-a57b-5720e8639950",
   "metadata": {},
   "outputs": [],
   "source": []
  }
 ],
 "metadata": {
  "kernelspec": {
   "display_name": "Python 3 (ipykernel)",
   "language": "python",
   "name": "python3"
  },
  "language_info": {
   "codemirror_mode": {
    "name": "ipython",
    "version": 3
   },
   "file_extension": ".py",
   "mimetype": "text/x-python",
   "name": "python",
   "nbconvert_exporter": "python",
   "pygments_lexer": "ipython3",
   "version": "3.13.5"
  }
 },
 "nbformat": 4,
 "nbformat_minor": 5
}
