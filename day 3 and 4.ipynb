{
 "cells": [
  {
   "cell_type": "code",
   "execution_count": 2,
   "id": "f2791e2d-0cea-4244-96d7-d36b876de013",
   "metadata": {},
   "outputs": [],
   "source": [
    "#last fun\n",
    "#Modules\n",
    "#user defined module\n",
    "#file handling and it's uses \n",
    "#practical examples"
   ]
  },
  {
   "cell_type": "code",
   "execution_count": 5,
   "id": "1b3295b0-3949-4282-8a9c-c39d01780cd3",
   "metadata": {},
   "outputs": [],
   "source": [
    "#Exception Handling\n",
    "#try"
   ]
  },
  {
   "cell_type": "code",
   "execution_count": 1,
   "id": "a6501134-5ff9-4dbb-8135-1b9b02f83348",
   "metadata": {},
   "outputs": [
    {
     "name": "stdout",
     "output_type": "stream",
     "text": [
      "invalid code\n"
     ]
    }
   ],
   "source": [
    "#Exception Handling\n",
    "\n",
    "\n",
    "age='23'\n",
    "\n",
    "\n",
    "try:\n",
    " print(1/0)\n",
    " if age>=18:\n",
    "    print('can vote')\n",
    " else:\n",
    "    print('can\\'t vote')\n",
    "except TypeError:\n",
    "    print('something went wrong')\n",
    "    print('invalid datatype comparison')\n",
    "except:\n",
    "    print('invalid code')"
   ]
  },
  {
   "cell_type": "code",
   "execution_count": 2,
   "id": "ef986eb8-5701-42d6-9202-2866c8a7fc58",
   "metadata": {},
   "outputs": [],
   "source": [
    "def student_records(**kwargs):\n",
    "    import pandas as pd\n",
    "    try:\n",
    "        data= pd.DataFrame(kwargs)\n",
    "        return data\n",
    "    except:\n",
    "    \n",
    "        data= pd.DataFrame(kwargs,index=[1])\n",
    "        return data\n",
    "        "
   ]
  },
  {
   "cell_type": "code",
   "execution_count": 3,
   "id": "808c4605-731a-449b-a6d4-d7cf1edc1ed6",
   "metadata": {},
   "outputs": [],
   "source": [
    "def show_time():\n",
    " try:\n",
    "  while True:\n",
    "     import time\n",
    "     print(time.asctime())\n",
    "     time.sleep(1)\n",
    "     display(clear=True)\n",
    " except:\n",
    "     print('Timer has been stopped')"
   ]
  },
  {
   "cell_type": "code",
   "execution_count": 4,
   "id": "c540740b-4459-499a-be2b-962e620b3b9d",
   "metadata": {},
   "outputs": [
    {
     "data": {
      "text/html": [
       "<div>\n",
       "<style scoped>\n",
       "    .dataframe tbody tr th:only-of-type {\n",
       "        vertical-align: middle;\n",
       "    }\n",
       "\n",
       "    .dataframe tbody tr th {\n",
       "        vertical-align: top;\n",
       "    }\n",
       "\n",
       "    .dataframe thead th {\n",
       "        text-align: right;\n",
       "    }\n",
       "</style>\n",
       "<table border=\"1\" class=\"dataframe\">\n",
       "  <thead>\n",
       "    <tr style=\"text-align: right;\">\n",
       "      <th></th>\n",
       "      <th>Name</th>\n",
       "      <th>Age</th>\n",
       "      <th>Address</th>\n",
       "      <th>Sec</th>\n",
       "    </tr>\n",
       "  </thead>\n",
       "  <tbody>\n",
       "    <tr>\n",
       "      <th>0</th>\n",
       "      <td>Ajay</td>\n",
       "      <td>12</td>\n",
       "      <td>Noida</td>\n",
       "      <td>A</td>\n",
       "    </tr>\n",
       "    <tr>\n",
       "      <th>1</th>\n",
       "      <td>Rachit</td>\n",
       "      <td>18</td>\n",
       "      <td>Delhi</td>\n",
       "      <td>B</td>\n",
       "    </tr>\n",
       "    <tr>\n",
       "      <th>2</th>\n",
       "      <td>Samdish</td>\n",
       "      <td>19</td>\n",
       "      <td>Gurgaon</td>\n",
       "      <td>C</td>\n",
       "    </tr>\n",
       "  </tbody>\n",
       "</table>\n",
       "</div>"
      ],
      "text/plain": [
       "      Name  Age  Address Sec\n",
       "0     Ajay   12    Noida   A\n",
       "1   Rachit   18    Delhi   B\n",
       "2  Samdish   19  Gurgaon   C"
      ]
     },
     "execution_count": 4,
     "metadata": {},
     "output_type": "execute_result"
    }
   ],
   "source": [
    "student_records(Name=['Ajay','Rachit','Samdish'],\n",
    "                Age=[12,18,19],\n",
    "                Address=['Noida','Delhi','Gurgaon'],\n",
    "                Sec=list('ABC'))"
   ]
  },
  {
   "cell_type": "code",
   "execution_count": null,
   "id": "55e47a09-a026-4b31-a013-883be1e9b467",
   "metadata": {},
   "outputs": [
    {
     "name": "stdout",
     "output_type": "stream",
     "text": [
      "Mon Jul 21 10:39:11 2025\n"
     ]
    }
   ],
   "source": [
    "show_time()"
   ]
  },
  {
   "cell_type": "code",
   "execution_count": null,
   "id": "c6ea3188-1ae7-4935-b1d5-1d127ec3a3ba",
   "metadata": {},
   "outputs": [],
   "source": []
  },
  {
   "cell_type": "code",
   "execution_count": null,
   "id": "d2c3aaea-bf07-46f1-ba83-c4ac5b4106d6",
   "metadata": {},
   "outputs": [],
   "source": []
  },
  {
   "cell_type": "code",
   "execution_count": null,
   "id": "1f03d726-413c-459a-ae6f-c8da55043822",
   "metadata": {},
   "outputs": [],
   "source": []
  },
  {
   "cell_type": "code",
   "execution_count": null,
   "id": "f5d0522a-35df-49f4-aa6f-3d6ca16f107b",
   "metadata": {},
   "outputs": [],
   "source": []
  },
  {
   "cell_type": "code",
   "execution_count": null,
   "id": "33ffd408-47f7-4fe9-8205-4239a547e48a",
   "metadata": {},
   "outputs": [],
   "source": []
  },
  {
   "cell_type": "code",
   "execution_count": null,
   "id": "1b88e7c4-c526-43fe-aff7-b399fd1b05e5",
   "metadata": {},
   "outputs": [],
   "source": []
  },
  {
   "cell_type": "code",
   "execution_count": null,
   "id": "ebd7dd3f-c219-404c-b5a0-09b43214d663",
   "metadata": {},
   "outputs": [],
   "source": [
    "import fazal as a\n",
    "print('Done')"
   ]
  },
  {
   "cell_type": "code",
   "execution_count": null,
   "id": "90703f7d-2181-432d-a956-0d41eab906bf",
   "metadata": {},
   "outputs": [],
   "source": []
  },
  {
   "cell_type": "code",
   "execution_count": null,
   "id": "42453054-2ebd-45aa-a29b-6a564b254445",
   "metadata": {},
   "outputs": [],
   "source": [
    "a.check_palindrome('Nitin')"
   ]
  },
  {
   "cell_type": "code",
   "execution_count": null,
   "id": "12cee6de-47c5-46b3-bad9-f8f1bdff81d3",
   "metadata": {},
   "outputs": [],
   "source": [
    "a.print_star()"
   ]
  },
  {
   "cell_type": "code",
   "execution_count": null,
   "id": "5c23934c-463a-40a3-abb4-f5d69d1c1376",
   "metadata": {},
   "outputs": [],
   "source": [
    "a.print_star(n=8,typ='mid',shape='&')"
   ]
  },
  {
   "cell_type": "code",
   "execution_count": null,
   "id": "c13a402e-bfd7-4057-8555-d3c5e3ca5f2c",
   "metadata": {},
   "outputs": [],
   "source": [
    "a.check_prime(827)"
   ]
  },
  {
   "cell_type": "code",
   "execution_count": null,
   "id": "0599162b-67c3-4d11-8a49-f6e264f01cdc",
   "metadata": {},
   "outputs": [],
   "source": [
    "a.factorial(60)"
   ]
  },
  {
   "cell_type": "code",
   "execution_count": null,
   "id": "f1a1241e-2392-41c7-a1ba-1cc0e1e027c2",
   "metadata": {},
   "outputs": [],
   "source": [
    "a.give_fibo(20)"
   ]
  },
  {
   "cell_type": "code",
   "execution_count": null,
   "id": "7350c8c0-10c9-4120-8311-149805dc9b48",
   "metadata": {},
   "outputs": [],
   "source": [
    "a.store_records('fazal',20,'E2',62,'BCA')"
   ]
  },
  {
   "cell_type": "code",
   "execution_count": null,
   "id": "6c16bd7c-1658-4e1f-b601-22029b774512",
   "metadata": {},
   "outputs": [],
   "source": [
    "a.sum_of_n_natural_numbers(80)"
   ]
  },
  {
   "cell_type": "code",
   "execution_count": null,
   "id": "6b4d1110-7155-4114-9301-c326b94b2171",
   "metadata": {},
   "outputs": [],
   "source": [
    "a.min(30,3293,462,247,2327)"
   ]
  },
  {
   "cell_type": "code",
   "execution_count": null,
   "id": "ef0cc45b-1c2f-4e6a-91fb-696bada79274",
   "metadata": {},
   "outputs": [],
   "source": [
    "import fazal as a \n",
    "print('Done')"
   ]
  },
  {
   "cell_type": "code",
   "execution_count": null,
   "id": "c2b1176b-5a70-49de-8479-bf03352df165",
   "metadata": {},
   "outputs": [],
   "source": [
    "# !pip install gTTS"
   ]
  },
  {
   "cell_type": "code",
   "execution_count": 3,
   "id": "0f177a56-4515-4779-a86d-f7ed52c8071c",
   "metadata": {},
   "outputs": [],
   "source": [
    "#internet"
   ]
  },
  {
   "cell_type": "code",
   "execution_count": 4,
   "id": "78074618-529c-48b0-9be8-3a7c69d44605",
   "metadata": {},
   "outputs": [],
   "source": [
    "#!pip install gTTS"
   ]
  },
  {
   "cell_type": "code",
   "execution_count": 5,
   "id": "381d1897-d0aa-4433-bc58-c503edc51c8f",
   "metadata": {},
   "outputs": [],
   "source": [
    "#!pip install gTTS"
   ]
  },
  {
   "cell_type": "code",
   "execution_count": 8,
   "id": "9c05d3dc-e70e-4330-ba21-975357c1489b",
   "metadata": {},
   "outputs": [],
   "source": [
    "#pip install pygame"
   ]
  },
  {
   "cell_type": "code",
   "execution_count": 9,
   "id": "2a22d653-b1f5-4c4c-b1ae-b33e89aab7e1",
   "metadata": {},
   "outputs": [
    {
     "name": "stdout",
     "output_type": "stream",
     "text": [
      "pygame 2.6.1 (SDL 2.28.4, Python 3.13.5)\n",
      "Hello from the pygame community. https://www.pygame.org/contribute.html\n"
     ]
    }
   ],
   "source": [
    "from gtts import gTTS\n",
    "a.sound_box(34)"
   ]
  },
  {
   "cell_type": "code",
   "execution_count": 10,
   "id": "17d8dbf7-5931-4dd7-8dc1-a7b4ad62048d",
   "metadata": {},
   "outputs": [],
   "source": [
    "a.sound_box(1000)"
   ]
  },
  {
   "cell_type": "code",
   "execution_count": 16,
   "id": "8f01f513-e4a8-43e5-a941-a1e2a9a45796",
   "metadata": {},
   "outputs": [],
   "source": [
    "a.sound_box(770)"
   ]
  },
  {
   "cell_type": "code",
   "execution_count": 13,
   "id": "39583c68-ffb7-4e07-a9ae-dd452d8f1fa3",
   "metadata": {},
   "outputs": [
    {
     "name": "stdout",
     "output_type": "stream",
     "text": [
      "Fri Jul  4 12:54:20 2025\n",
      "Timer has been stopped\n"
     ]
    }
   ],
   "source": [
    "a.show_time()"
   ]
  },
  {
   "cell_type": "code",
   "execution_count": 37,
   "id": "7ead1959-df00-44a6-909b-96b2fc97a467",
   "metadata": {},
   "outputs": [
    {
     "data": {
      "text/plain": [
       "'Palindrome'"
      ]
     },
     "execution_count": 37,
     "metadata": {},
     "output_type": "execute_result"
    }
   ],
   "source": [
    "a.check_palindrome('vasav')"
   ]
  },
  {
   "cell_type": "code",
   "execution_count": 38,
   "id": "14ebec1c-522f-45fb-8bcd-8eebfa485896",
   "metadata": {},
   "outputs": [
    {
     "data": {
      "text/plain": [
       "[0, 1, 1, 2, 3, 5, 8, 13, 21, 34]"
      ]
     },
     "execution_count": 38,
     "metadata": {},
     "output_type": "execute_result"
    }
   ],
   "source": [
    "a.give_fibo(10)"
   ]
  },
  {
   "cell_type": "code",
   "execution_count": null,
   "id": "aea437ac-1d49-4fff-877d-91ca50ee9d8f",
   "metadata": {},
   "outputs": [],
   "source": []
  },
  {
   "cell_type": "code",
   "execution_count": 39,
   "id": "32d26b5b-2dc8-449e-b7f5-16d3b133917f",
   "metadata": {},
   "outputs": [
    {
     "name": "stdout",
     "output_type": "stream",
     "text": [
      "done\n"
     ]
    }
   ],
   "source": [
    "from fazal import *\n",
    "print('done')"
   ]
  },
  {
   "cell_type": "code",
   "execution_count": 40,
   "id": "141fcd7d-d941-45d9-af61-59e8e2d4f08b",
   "metadata": {},
   "outputs": [
    {
     "data": {
      "text/plain": [
       "120"
      ]
     },
     "execution_count": 40,
     "metadata": {},
     "output_type": "execute_result"
    }
   ],
   "source": [
    "min(120,123,1293,123)"
   ]
  },
  {
   "cell_type": "code",
   "execution_count": 41,
   "id": "b71d370f-a3ee-4271-8c68-45387d0d981c",
   "metadata": {},
   "outputs": [
    {
     "data": {
      "text/plain": [
       "231"
      ]
     },
     "execution_count": 41,
     "metadata": {},
     "output_type": "execute_result"
    }
   ],
   "source": [
    "sum_of_n_natural_numbers(21)"
   ]
  },
  {
   "cell_type": "code",
   "execution_count": 42,
   "id": "59febf31-eb1a-4108-92d0-0f74f0acff7c",
   "metadata": {},
   "outputs": [
    {
     "data": {
      "text/plain": [
       "120"
      ]
     },
     "execution_count": 42,
     "metadata": {},
     "output_type": "execute_result"
    }
   ],
   "source": [
    "factorial(5)"
   ]
  },
  {
   "cell_type": "code",
   "execution_count": null,
   "id": "a5db1acd-b417-4851-a0c9-9c13de325df1",
   "metadata": {},
   "outputs": [],
   "source": []
  },
  {
   "cell_type": "code",
   "execution_count": 43,
   "id": "811af1d8-d16c-43fb-9f23-7a52b56ca2f8",
   "metadata": {},
   "outputs": [
    {
     "name": "stdout",
     "output_type": "stream",
     "text": [
      "done\n"
     ]
    }
   ],
   "source": [
    "import turtle\n",
    "print('done')"
   ]
  },
  {
   "cell_type": "code",
   "execution_count": 1,
   "id": "2e131ece-b06d-4357-8605-a04abefba79c",
   "metadata": {},
   "outputs": [],
   "source": [
    "import turtle\n",
    "for i in range(4):\n",
    "    turtle.speed(0)\n",
    "    turtle.bgcolor('black')\n",
    "    turtle.color('')\n",
    "    col=['red','yellow','green','blue','orange']\n",
    "    import random\n",
    "    picked_color=random.choice(col)\n",
    "    turtle.color(picked_color)\n",
    "    turtle.circle(100)\n",
    "    turtle.left(3)\n",
    "    "
   ]
  },
  {
   "cell_type": "code",
   "execution_count": null,
   "id": "59ea3bf4-422a-4526-90d0-8f374e73d5b9",
   "metadata": {},
   "outputs": [],
   "source": []
  },
  {
   "cell_type": "code",
   "execution_count": null,
   "id": "4b60135d-b1dc-4bd6-ae43-ebd25c1fe1a4",
   "metadata": {},
   "outputs": [],
   "source": []
  },
  {
   "cell_type": "code",
   "execution_count": 4,
   "id": "b78df3e1-9f67-4c99-8e30-396f03417387",
   "metadata": {},
   "outputs": [],
   "source": [
    "import turtle\n",
    "for i in range(6):\n",
    "    turtle.bgcolor('black')\n",
    "    turtle.color('yellow')\n",
    "    turtle.forward(200)\n",
    "    turtle.left(60)\n",
    "    "
   ]
  },
  {
   "cell_type": "code",
   "execution_count": null,
   "id": "08e236a4-a3fc-421a-b1dc-f48878a87418",
   "metadata": {},
   "outputs": [],
   "source": []
  },
  {
   "cell_type": "code",
   "execution_count": null,
   "id": "1102369d-ce0f-4cd9-8c07-8579380010d7",
   "metadata": {},
   "outputs": [],
   "source": []
  },
  {
   "cell_type": "code",
   "execution_count": 3,
   "id": "cb04891a-b4cb-4a4c-ad68-9be9063ba2c1",
   "metadata": {},
   "outputs": [],
   "source": [
    "#File Handling"
   ]
  },
  {
   "cell_type": "code",
   "execution_count": 10,
   "id": "975665d3-17fd-4811-9f1f-0c3182f95f2d",
   "metadata": {},
   "outputs": [],
   "source": [
    "#Types of Files\n",
    "#1 Text File\n",
    "#examples: .py ,.csw , .css ,.c++\n",
    "#2 Binary File\n",
    "# .pdf, .mp3 ,.png ,.exe ,.jpeg ,.tar ,.dat ,.zip"
   ]
  },
  {
   "cell_type": "code",
   "execution_count": null,
   "id": "afd845a7-57eb-42e3-892e-5d7044b23b91",
   "metadata": {},
   "outputs": [],
   "source": []
  },
  {
   "cell_type": "code",
   "execution_count": 14,
   "id": "a6a44490-f84e-4d99-9a58-855221c206a6",
   "metadata": {},
   "outputs": [],
   "source": [
    "#handling:- read,write,copy,append,delete,open,new,close"
   ]
  },
  {
   "cell_type": "code",
   "execution_count": 15,
   "id": "1f049404-a68a-41ef-9080-581c8f2c7573",
   "metadata": {},
   "outputs": [],
   "source": [
    "#context manager"
   ]
  },
  {
   "cell_type": "code",
   "execution_count": 16,
   "id": "3b743734-b7c1-4853-aee3-def2463b7035",
   "metadata": {},
   "outputs": [
    {
     "name": "stdout",
     "output_type": "stream",
     "text": [
      "print('''This is Fazal Module in Python\n",
      "Info:https://www.google.com/''')\n",
      "\n",
      "\n",
      "def check_palindrome(word\n"
     ]
    }
   ],
   "source": [
    "file=open('fazal.py',mode='r')\n",
    "print(file.read(100))\n",
    "file.close()"
   ]
  },
  {
   "cell_type": "code",
   "execution_count": 18,
   "id": "61c98037-f802-4474-bf96-6bedb6d09f4c",
   "metadata": {},
   "outputs": [
    {
     "name": "stdout",
     "output_type": "stream",
     "text": [
      "2839491036384\n",
      "2839491036384\n",
      "2839491036384\n"
     ]
    }
   ],
   "source": [
    "a='ajay'\n",
    "b='ajay'\n",
    "C='ajay'\n",
    "print(id(a))\n",
    "print(id(b))\n",
    "print(id(C))"
   ]
  },
  {
   "cell_type": "code",
   "execution_count": 19,
   "id": "7b415eaf-ed81-46c5-a2ff-bc03f8ab9d11",
   "metadata": {},
   "outputs": [
    {
     "data": {
      "text/plain": [
       "True"
      ]
     },
     "execution_count": 19,
     "metadata": {},
     "output_type": "execute_result"
    }
   ],
   "source": [
    "a is b"
   ]
  },
  {
   "cell_type": "code",
   "execution_count": 20,
   "id": "6987d154-fee0-4c44-94bd-1eecefc707a6",
   "metadata": {},
   "outputs": [
    {
     "data": {
      "text/plain": [
       "True"
      ]
     },
     "execution_count": 20,
     "metadata": {},
     "output_type": "execute_result"
    }
   ],
   "source": [
    "b is C"
   ]
  },
  {
   "cell_type": "code",
   "execution_count": 62,
   "id": "d7e265f4-13d9-426e-94c7-f308a5c7a53c",
   "metadata": {},
   "outputs": [],
   "source": [
    "f=open('fazal.py', mode='r')\n"
   ]
  },
  {
   "cell_type": "code",
   "execution_count": 64,
   "id": "23de6b68-806c-4b78-b4d9-46188609d277",
   "metadata": {},
   "outputs": [
    {
     "name": "stdout",
     "output_type": "stream",
     "text": [
      "Info:https://www.google.com/''')\n",
      "\n"
     ]
    }
   ],
   "source": [
    "print(f.readline())"
   ]
  },
  {
   "cell_type": "code",
   "execution_count": 66,
   "id": "322ac65b-9e1b-4d93-a6aa-aeb9eea692ce",
   "metadata": {},
   "outputs": [
    {
     "name": "stdout",
     "output_type": "stream",
     "text": [
      "done\n"
     ]
    }
   ],
   "source": [
    "f.close()\n",
    "print('done')"
   ]
  },
  {
   "cell_type": "code",
   "execution_count": 70,
   "id": "8c27b9e8-860b-43cc-92a9-01d03fb546a6",
   "metadata": {},
   "outputs": [
    {
     "name": "stdout",
     "output_type": "stream",
     "text": [
      "print('''This is Fazal Module in Python\n",
      "\n",
      "Info:https://www.google.com/''')\n",
      "\n",
      "\n",
      "\n",
      "\n",
      "\n",
      "def check_palindrome(word:str):\n",
      "\n",
      "    if type(word)==str:\n",
      "\n",
      "        word= word.upper()\n",
      "\n",
      "        if word== word[::-1]:\n",
      "\n",
      "            return'Palindrome'\n",
      "\n",
      "        else:\n",
      "\n"
     ]
    }
   ],
   "source": [
    "f=open('fazal.py', mode='r')\n",
    "for i in range(10):\n",
    "    print(f.readline())"
   ]
  },
  {
   "cell_type": "code",
   "execution_count": 72,
   "id": "ce658201-c534-4c44-9453-bd6adad772a3",
   "metadata": {},
   "outputs": [
    {
     "name": "stdout",
     "output_type": "stream",
     "text": [
      "def check_palindrome(word:str):\n",
      "\n"
     ]
    }
   ],
   "source": [
    "f=open('fazal.py', mode='r')\n",
    "for i in range(10):\n",
    " if i==4:\n",
    "    print(f.readline())\n",
    " else:\n",
    "    f.readline()"
   ]
  },
  {
   "cell_type": "code",
   "execution_count": 73,
   "id": "23db8e1a-32c1-4150-b33a-c15af208816e",
   "metadata": {},
   "outputs": [
    {
     "name": "stdout",
     "output_type": "stream",
     "text": [
      "done\n"
     ]
    }
   ],
   "source": [
    "f=open('fazal.py', mode='r')\n",
    "\n",
    "data=f.readlines()\n",
    "\n",
    "f.close()\n",
    "print('done')"
   ]
  },
  {
   "cell_type": "code",
   "execution_count": 75,
   "id": "9ecc510a-f7a1-4d2e-abc3-ff4b6458f3f2",
   "metadata": {},
   "outputs": [
    {
     "name": "stdout",
     "output_type": "stream",
     "text": [
      "[\"print('''This is Fazal Module in Python\\n\", \"Info:https://www.google.com/''')\\n\", '\\n', '\\n', 'def check_palindrome(word:str):\\n', '    if type(word)==str:\\n', '        word= word.upper()\\n', '        if word== word[::-1]:\\n', \"            return'Palindrome'\\n\", '        else:\\n', \"            return 'Not a Palindrome'\\n\", '    else:\\n', \"        return'Invalid Data Type'\\n\", '\\n', '\\n', '\\n', 'def give_fibo(n):\\n', '    fibo=[0,1]\\n', '    for i in range(n-2):\\n', '        last_num= fibo[-1]\\n', '        second_last_num= fibo[-2]\\n', '        next_num= last_num + second_last_num\\n', '        fibo.append(next_num)\\n', '    return fibo\\n', '\\n', '\\n', '\\n', 'def check_prime(number):\\n', '    for i in range(2,number):\\n', '        if number % i==0:\\n', \"            return 'Not a Prime Number'\\n\", '            break\\n', '    else:  \\n', \"        return'Prime Number'\\n\", '\\n', '\\n', '\\n', '\\n', '\\n', \"def print_star(n=5,typ= 'left',shape='*'):\\n\", \"    if typ == 'left':\\n\", \"            space=''\\n\", '            \\n', \"    elif typ == 'right':\\n\", \"                    space='  '\\n\", '                     \\n', \"    elif typ == 'mid':\\n\", \"                    space=' '\\n\", '        \\n', '    for i in range(1,n+1):\\n', \"             print(' '*(n-i)+i*f'{shape} ')\\n\", '\\n', '\\n', '\\n', '\\n', 'def sum_of_n_natural_numbers(n):\\n', '    result = 0\\n', '    for i in range(1,n+1):\\n', '        result+=i\\n', '    return result \\n', '\\n', '\\n', '\\n', 'def factorial(n):\\n', '    result=1\\n', '    for i in range(1,n+1):\\n', '            result*=i\\n', '    return result\\n', '\\n', '\\n', '\\n', '\\n', 'def total_sales(*args):\\n', '     #unpacking\\n', '     result=0\\n', '     for i in args:\\n', '            result+= i \\n', '     return result\\n', '\\n', '\\n', '\\n', '\\n', 'def min(*data):\\n', '    min_ele=data[0]\\n', '    for i in data[1:]:\\n', '        if i<min_ele:\\n', '            min_ele=i\\n', '    return min_ele\\n', '\\n', '\\n', '\\n', '\\n', 'def max(*data):\\n', '    max_ele=data[0]\\n', '    for i in data[1:]:\\n', '        if i>max_ele:\\n', '            max_ele=i\\n', '    return max_ele\\n', '\\n', '\\n', '\\n', '\\n', '\\n', 'def store_records(name,age,sec,roll_no,Class):\\n', \"    data={'Name':name,'Age':age,'Sec':sec,'Roll_NO':roll_no,'Class':Class}\\n\", '    import pandas as pd\\n', '    result=pd.DataFrame(data,index=[1])\\n', '    return result\\n', '\\n', '\\n', '\\n', '\\n', 'def students_records(**kwargs):\\n', '    import pandas as pd\\n', '    result=pd.DataFrame(kwargs,index=[1])\\n', '    return result\\n', '\\n', '\\n', '\\n', '\\n', '\\n', 'def student_records(**kwargs):\\n', '    import pandas as pd\\n', '    try:\\n', '        data= pd.DataFrame(kwargs)\\n', '        return data\\n', '    except:\\n', '    \\n', '        data= pd.DataFrame(kwargs,index=[1])\\n', '        return data\\n', '\\n', '\\n', '\\n', '\\n', '\\n', 'def show_time():\\n', ' try:\\n', '  while True:\\n', '     import time\\n', '     print(time.asctime())\\n', '     time.sleep(1)\\n', '     display(clear=True)\\n', ' except:\\n', \"     print('Timer has been stopped')\\n\", '\\n', '\\n', '\\n', '\\n', '\\n', \"def sound_box(paisa,platform='Paytm'):\\n\", '    from gtts import gTTS\\n', \"    text = f'''{platform} par {paisa} rs Prapt hue.'''\\n\", '    audio= gTTS(text)\\n', \"    audio.save('paytm.mp3')\\n\", '\\n', '    import pygame as p\\n', '    p.init()\\n', '\\n', \"    music= p.mixer.Sound('paytm.mp3')\\n\", '    music.play()     ']\n"
     ]
    }
   ],
   "source": [
    "print(data)"
   ]
  },
  {
   "cell_type": "code",
   "execution_count": 76,
   "id": "fa957407-bf75-464e-b476-ea8b33a4d4a7",
   "metadata": {},
   "outputs": [
    {
     "name": "stdout",
     "output_type": "stream",
     "text": [
      "['    if type(word)==str:\\n', '        word= word.upper()\\n', '        if word== word[::-1]:\\n', \"            return'Palindrome'\\n\", '        else:\\n', \"            return 'Not a Palindrome'\\n\", '    else:\\n', \"        return'Invalid Data Type'\\n\", '\\n', '\\n', '\\n', 'def give_fibo(n):\\n', '    fibo=[0,1]\\n', '    for i in range(n-2):\\n', '        last_num= fibo[-1]\\n', '        second_last_num= fibo[-2]\\n', '        next_num= last_num + second_last_num\\n', '        fibo.append(next_num)\\n', '    return fibo\\n', '\\n', '\\n', '\\n', 'def check_prime(number):\\n', '    for i in range(2,number):\\n', '        if number % i==0:\\n', \"            return 'Not a Prime Number'\\n\", '            break\\n', '    else:  \\n', \"        return'Prime Number'\\n\", '\\n', '\\n', '\\n', '\\n', '\\n', \"def print_star(n=5,typ= 'left',shape='*'):\\n\"]\n"
     ]
    }
   ],
   "source": [
    "print(data[5:40])"
   ]
  },
  {
   "cell_type": "code",
   "execution_count": 79,
   "id": "207b91d4-f3ca-4a8c-ac2d-6ce8a8f7c732",
   "metadata": {},
   "outputs": [
    {
     "name": "stdout",
     "output_type": "stream",
     "text": [
      "print('''This is Fazal Module in Python\n",
      "\n",
      "Info:https://www.google.com/''')\n",
      "\n",
      "\n",
      "\n",
      "\n",
      "\n",
      "def check_palindrome(word:str):\n",
      "\n",
      "    if type(word)==str:\n",
      "\n",
      "        word= word.upper()\n",
      "\n",
      "        if word== word[::-1]:\n",
      "\n",
      "            return'Palindrome'\n",
      "\n",
      "        else:\n",
      "\n",
      "            return 'Not a Palindrome'\n",
      "\n",
      "    else:\n",
      "\n",
      "        return'Invalid Data Type'\n",
      "\n",
      "\n",
      "\n",
      "\n",
      "\n",
      "\n",
      "\n",
      "def give_fibo(n):\n",
      "\n",
      "    fibo=[0,1]\n",
      "\n"
     ]
    }
   ],
   "source": [
    "for i in data [:18]:\n",
    "  print(i)"
   ]
  },
  {
   "cell_type": "code",
   "execution_count": 81,
   "id": "e6e20986-9004-46dc-80b8-a499e4884a54",
   "metadata": {},
   "outputs": [],
   "source": [
    "#DAY 4\n",
    "#File Handling Part 2\n",
    "# Requests Module Example\n",
    "#OOPs and Pillars\n",
    "#Python to DB Connectivity!!"
   ]
  },
  {
   "cell_type": "code",
   "execution_count": 83,
   "id": "fe52428e-ddcd-4a2f-ab51-957bf2904990",
   "metadata": {},
   "outputs": [
    {
     "name": "stdout",
     "output_type": "stream",
     "text": [
      "Done\n"
     ]
    }
   ],
   "source": [
    "#Mode:\n",
    "#write:w\n",
    "#new file write/create\n",
    "\n",
    "\n",
    "f=open('day_4.txt',mode='w')\n",
    "f.write('This is day 4 of DS training!!!')\n",
    "f.close()\n",
    "print('Done')"
   ]
  },
  {
   "cell_type": "code",
   "execution_count": 1,
   "id": "13dc6796-8229-4a92-9356-b2a8ae85c34e",
   "metadata": {},
   "outputs": [],
   "source": [
    "#pip install googlesearch-python "
   ]
  },
  {
   "cell_type": "code",
   "execution_count": 3,
   "id": "251810c4-eee7-4016-a2d7-d3dac9908d1d",
   "metadata": {},
   "outputs": [
    {
     "data": {
      "text/plain": [
       "['/search?num=12',\n",
       " 'https://www.iitm.ac.in/',\n",
       " 'https://www.tropmet.res.in/',\n",
       " 'https://www.iitmjanakpuri.com/',\n",
       " 'https://en.wikipedia.org/wiki/IIT_Madras',\n",
       " 'https://iitmpravartak.org.in/',\n",
       " 'https://www.iitmz.ac.in/',\n",
       " 'https://www.tropmet.res.in/Careers',\n",
       " 'https://nptel.ac.in/',\n",
       " 'https://iitm.irins.org/']"
      ]
     },
     "execution_count": 3,
     "metadata": {},
     "output_type": "execute_result"
    }
   ],
   "source": [
    "from googlesearch import search\n",
    "list(search('IITM',num_results=10))"
   ]
  },
  {
   "cell_type": "code",
   "execution_count": 6,
   "id": "895382e3-b38e-4798-ba41-ad895e47b986",
   "metadata": {},
   "outputs": [
    {
     "name": "stdout",
     "output_type": "stream",
     "text": [
      "Done\n"
     ]
    }
   ],
   "source": [
    "from googlesearch import search\n",
    "data=(search('IITM',num_results=10))\n",
    "\n",
    "all_data=[]\n",
    "\n",
    "for i in data:\n",
    "    all_data.append(i+'\\n')\n",
    "\n",
    "file=open('Data Science.txt',mode='w')\n",
    "file.writelines(all_data)\n",
    "file.close()\n",
    "print('Done')"
   ]
  },
  {
   "cell_type": "code",
   "execution_count": 9,
   "id": "e9078a4f-55d9-4d7d-9cd6-7eed6853ca2c",
   "metadata": {},
   "outputs": [
    {
     "name": "stdout",
     "output_type": "stream",
     "text": [
      "Done\n"
     ]
    }
   ],
   "source": [
    "from googlesearch import search\n",
    "\n",
    "\n",
    "title='IITM'\n",
    "\n",
    "data=(search(title,num_results=10))\n",
    "\n",
    "all_data=[]\n",
    "\n",
    "for i in data:\n",
    "    all_data.append(i+'\\n')\n",
    "\n",
    "file=open(f'{title}.txt',mode='w')\n",
    "file.writelines(all_data)\n",
    "file.close()\n",
    "print('Done')"
   ]
  },
  {
   "cell_type": "code",
   "execution_count": null,
   "id": "81170c54-5d6d-460d-b1a9-59d609115b1a",
   "metadata": {},
   "outputs": [],
   "source": [
    "a.sound_box(50)"
   ]
  },
  {
   "cell_type": "code",
   "execution_count": null,
   "id": "2995f014-8de6-40c2-8b18-c87eb9030966",
   "metadata": {},
   "outputs": [],
   "source": []
  }
 ],
 "metadata": {
  "kernelspec": {
   "display_name": "Python 3 (ipykernel)",
   "language": "python",
   "name": "python3"
  },
  "language_info": {
   "codemirror_mode": {
    "name": "ipython",
    "version": 3
   },
   "file_extension": ".py",
   "mimetype": "text/x-python",
   "name": "python",
   "nbconvert_exporter": "python",
   "pygments_lexer": "ipython3",
   "version": "3.13.5"
  }
 },
 "nbformat": 4,
 "nbformat_minor": 5
}
