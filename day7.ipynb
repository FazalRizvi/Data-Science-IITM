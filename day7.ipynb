{
 "cells": [
  {
   "cell_type": "markdown",
   "id": "3cf41ea3-6aca-484a-9f27-e3cd65a37332",
   "metadata": {},
   "source": [
    "#INHERITANCE"
   ]
  },
  {
   "cell_type": "code",
   "execution_count": 73,
   "id": "c148b5ae-9bff-447a-8ec6-fe6feab69338",
   "metadata": {},
   "outputs": [],
   "source": [
    "class A:\n",
    "    def i_am_a():\n",
    "        print('i am a func of class A')\n",
    "\n",
    "class B:\n",
    "    def i_am_b():\n",
    "        print('i am a func of class B')"
   ]
  },
  {
   "cell_type": "code",
   "execution_count": 74,
   "id": "7da8ebd1-37e0-4608-8eae-1dc06e5c3705",
   "metadata": {},
   "outputs": [],
   "source": [
    "ob_a=A()\n",
    "ob_b=B()"
   ]
  },
  {
   "cell_type": "code",
   "execution_count": null,
   "id": "26ab605c-8ae7-436f-9dc9-860aef629300",
   "metadata": {},
   "outputs": [],
   "source": []
  },
  {
   "cell_type": "code",
   "execution_count": 75,
   "id": "2f610f08-766e-46fa-834b-0ebe4da24a80",
   "metadata": {},
   "outputs": [],
   "source": [
    "#simple inheritance(single)\n",
    "#Multiple inheritance\n",
    "#multilevel inheritance\n",
    "#hybrid inheritance"
   ]
  },
  {
   "cell_type": "code",
   "execution_count": 76,
   "id": "43143e73-ad97-4868-9844-6eb2bb33ac0b",
   "metadata": {},
   "outputs": [],
   "source": [
    "#simple inheritance(single)"
   ]
  },
  {
   "cell_type": "code",
   "execution_count": 77,
   "id": "ae562ae4-f006-455b-9b71-1c1720ef889a",
   "metadata": {},
   "outputs": [],
   "source": [
    "class BMW:#Parent class, main class,super class,base class\n",
    "    def super_turbo_engine(self):\n",
    "        print('super_turbo_engine Fast Speed')\n",
    "\n",
    "class AUDI(BMW):#child class,sub class\n",
    "    def auto_pilot(self):\n",
    "        print('Can run on auto pilot mode')\n",
    "        "
   ]
  },
  {
   "cell_type": "code",
   "execution_count": 78,
   "id": "158a04fb-d6da-40ad-8fd9-dd7e07f0051e",
   "metadata": {},
   "outputs": [],
   "source": [
    "audi_r8=AUDI()"
   ]
  },
  {
   "cell_type": "code",
   "execution_count": 79,
   "id": "79df1b0e-caac-4511-9bdb-685aed98f133",
   "metadata": {},
   "outputs": [
    {
     "name": "stdout",
     "output_type": "stream",
     "text": [
      "Can run on auto pilot mode\n"
     ]
    }
   ],
   "source": [
    "audi_r8.auto_pilot()"
   ]
  },
  {
   "cell_type": "code",
   "execution_count": 80,
   "id": "1b55dc5c-8bdd-42d2-ac44-39c04867b3d5",
   "metadata": {},
   "outputs": [
    {
     "name": "stdout",
     "output_type": "stream",
     "text": [
      "super_turbo_engine Fast Speed\n"
     ]
    }
   ],
   "source": [
    "audi_r8.super_turbo_engine()"
   ]
  },
  {
   "cell_type": "code",
   "execution_count": 81,
   "id": "6abffb63-30c2-42c7-92c6-2e00baa3d8ff",
   "metadata": {},
   "outputs": [],
   "source": [
    "#Multiple inheritance"
   ]
  },
  {
   "cell_type": "code",
   "execution_count": 82,
   "id": "9bf0828f-5c0b-4649-a09d-e2f46ebae571",
   "metadata": {},
   "outputs": [],
   "source": [
    "\n",
    "\n",
    "class Daily_Object:\n",
    "    def phone_case(self):\n",
    "        print('Strong build phone case')\n",
    "\n",
    "class JBL:\n",
    "    def sonic_speaker(self):\n",
    "        print('high quality sound speaker')\n",
    "        \n",
    "class Samsung:\n",
    "    def screen_display(self):\n",
    "        print('4k HD display')\n",
    "\n",
    "class Nvidia:\n",
    "    def motherboard(self):\n",
    "        print('Fast')\n",
    "\n",
    "class Sony:\n",
    "    def camera(self):\n",
    "        print('4k camera')\n",
    "\n",
    "class Lava:\n",
    "    def charger(self):\n",
    "        print('Superfast charger from LAVA')\n",
    "\n",
    "\n",
    "class One_Plus:\n",
    "    def charger(self):\n",
    "        print('original superfast charger from One_Plus')\n",
    "\n",
    "\n",
    "\n",
    "class Mobile(Samsung,Sony,Daily_Object,JBL,One_Plus,Lava):\n",
    "    def __init__(self):\n",
    "        print('phone object created successfully')\n",
    "\n",
    "    def charger(self):\n",
    "        print('actual charger from mobile')\n",
    "        \n",
    "   # ...\n",
    "    #pass\n",
    "        \n",
    "        \n",
    "    \n",
    "\n",
    "    "
   ]
  },
  {
   "cell_type": "code",
   "execution_count": 83,
   "id": "1fcbebae-0bc2-485a-ae86-b3880b42b1a2",
   "metadata": {},
   "outputs": [
    {
     "name": "stdout",
     "output_type": "stream",
     "text": [
      "phone object created successfully\n"
     ]
    }
   ],
   "source": [
    "nothing=Mobile()"
   ]
  },
  {
   "cell_type": "code",
   "execution_count": 84,
   "id": "2e0a2f79-9631-4e3d-901e-9e5fe1454068",
   "metadata": {},
   "outputs": [
    {
     "name": "stdout",
     "output_type": "stream",
     "text": [
      "4k camera\n"
     ]
    }
   ],
   "source": [
    "nothing.camera()"
   ]
  },
  {
   "cell_type": "code",
   "execution_count": 85,
   "id": "89df8ba3-16be-4ff9-8fec-6bc9b3689fc1",
   "metadata": {},
   "outputs": [
    {
     "name": "stdout",
     "output_type": "stream",
     "text": [
      "4k HD display\n"
     ]
    }
   ],
   "source": [
    "nothing.screen_display()"
   ]
  },
  {
   "cell_type": "code",
   "execution_count": 86,
   "id": "0c158543-5a58-49af-be58-c7b2d19b98d6",
   "metadata": {},
   "outputs": [
    {
     "name": "stdout",
     "output_type": "stream",
     "text": [
      "actual charger from mobile\n"
     ]
    }
   ],
   "source": [
    "nothing.charger()"
   ]
  },
  {
   "cell_type": "code",
   "execution_count": 87,
   "id": "f8a399b5-5ee9-40c5-b9b8-90967594124d",
   "metadata": {},
   "outputs": [],
   "source": [
    "#MULTILEVEL INHERITANCE"
   ]
  },
  {
   "cell_type": "code",
   "execution_count": 88,
   "id": "4059ff01-1edd-42d7-8792-359d42e98406",
   "metadata": {},
   "outputs": [],
   "source": [
    "class GrandFather:\n",
    "    def land_property(self):\n",
    "        print('land property')\n",
    "\n",
    "class Father(GrandFather):\n",
    "    def banl_balace(self):\n",
    "        print('Big money player,huge bank balance')\n",
    "\n",
    "class Son(Father):\n",
    "    def political_power(self):\n",
    "        print('Political powers')\n",
    "\n",
    "class GrandSon(Son):\n",
    "    def mind(self):\n",
    "        print('mind for self study')\n",
    "\n",
    "class Friend(GrandSon):\n",
    "    def __init__(self):\n",
    "        print('nothing')"
   ]
  },
  {
   "cell_type": "code",
   "execution_count": 89,
   "id": "9354b1db-f8f1-4e3b-b750-e2964029a508",
   "metadata": {},
   "outputs": [
    {
     "name": "stdout",
     "output_type": "stream",
     "text": [
      "nothing\n"
     ]
    }
   ],
   "source": [
    "Rachit=Friend()"
   ]
  },
  {
   "cell_type": "code",
   "execution_count": 90,
   "id": "33b712b8-84f9-49b0-acfe-193be273e57b",
   "metadata": {},
   "outputs": [
    {
     "name": "stdout",
     "output_type": "stream",
     "text": [
      "Big money player,huge bank balance\n"
     ]
    }
   ],
   "source": [
    "Rachit.banl_balace()"
   ]
  },
  {
   "cell_type": "code",
   "execution_count": 91,
   "id": "8e1632ec-8ae6-4408-ab38-86463c432612",
   "metadata": {},
   "outputs": [],
   "source": [
    "#HYBRID INHERITANCE"
   ]
  },
  {
   "cell_type": "code",
   "execution_count": 93,
   "id": "01a0e8cd-ef01-4ff5-8bff-b90271c5f3cc",
   "metadata": {},
   "outputs": [],
   "source": [
    "class Hybrid_class(Mobile,Friend,AUDI):#Mobile(Multiple)\n",
    "    def __init__(self):\n",
    "        print('this is a hybrid class')\n",
    "\n",
    "    def info(self):\n",
    "        print('it can call any methods')\n",
    "\n",
    "        "
   ]
  },
  {
   "cell_type": "code",
   "execution_count": 94,
   "id": "4911c28b-2e9e-4def-8fad-5d72a28041a7",
   "metadata": {},
   "outputs": [
    {
     "name": "stdout",
     "output_type": "stream",
     "text": [
      "this is a hybrid class\n"
     ]
    }
   ],
   "source": [
    "ob=Hybrid_class()"
   ]
  },
  {
   "cell_type": "code",
   "execution_count": 95,
   "id": "50548025-c111-47b3-bed8-dbfb799872ba",
   "metadata": {},
   "outputs": [
    {
     "name": "stdout",
     "output_type": "stream",
     "text": [
      "Can run on auto pilot mode\n"
     ]
    }
   ],
   "source": [
    "ob.auto_pilot()"
   ]
  },
  {
   "cell_type": "code",
   "execution_count": 96,
   "id": "909b2bcc-c95e-49dd-a785-d579c763748a",
   "metadata": {},
   "outputs": [
    {
     "name": "stdout",
     "output_type": "stream",
     "text": [
      "it can call any methods\n"
     ]
    }
   ],
   "source": [
    "ob.info()"
   ]
  },
  {
   "cell_type": "code",
   "execution_count": 97,
   "id": "cb14a454-518a-4815-b0a0-bbe15e6eab93",
   "metadata": {},
   "outputs": [],
   "source": [
    "#HIERARCHIAL INHERITANCE"
   ]
  },
  {
   "cell_type": "code",
   "execution_count": 98,
   "id": "a72eac86-0498-4834-8072-d59df2b79784",
   "metadata": {},
   "outputs": [],
   "source": [
    "class UGC:\n",
    "    def __init__(self):\n",
    "        print('Grant Permission')\n",
    "\n",
    "    def college_approved(self):\n",
    "        print('college has been approved')\n",
    "\n",
    "class DU(UGC):\n",
    "    def multiple_colleges(self):\n",
    "        print('list of colleges')\n",
    "        \n",
    "class IP(UGC):\n",
    "    def multiple_colleges(self):\n",
    "        print('list of colleges')\n",
    "        \n",
    "class DTU(UGC):\n",
    "    def multiple_colleges(self):\n",
    "        print('list of colleges')\n",
    "\n",
    "class BHU(UGC):\n",
    "    def multiple_colleges(self):\n",
    "        print('list of colleges')\n",
    "        \n",
    "\n",
    "\n",
    "        \n",
    "        "
   ]
  },
  {
   "cell_type": "code",
   "execution_count": 99,
   "id": "6faa8991-8fc6-4cf2-9a97-6946ec2007a2",
   "metadata": {},
   "outputs": [
    {
     "name": "stdout",
     "output_type": "stream",
     "text": [
      "Grant Permission\n"
     ]
    }
   ],
   "source": [
    "IITM=IP()"
   ]
  },
  {
   "cell_type": "markdown",
   "id": "87acfa78-d86f-48ad-81e7-2963c8822d8d",
   "metadata": {},
   "source": [
    "#POLYMORPHISM"
   ]
  },
  {
   "cell_type": "code",
   "execution_count": 101,
   "id": "9a551118-6bf4-4751-b418-05af6b3b5c69",
   "metadata": {},
   "outputs": [
    {
     "data": {
      "text/plain": [
       "79"
      ]
     },
     "execution_count": 101,
     "metadata": {},
     "output_type": "execute_result"
    }
   ],
   "source": [
    "a= 34\n",
    "b=45\n",
    "a+b"
   ]
  },
  {
   "cell_type": "code",
   "execution_count": 103,
   "id": "950725ce-93c3-48f9-b213-0726937e085b",
   "metadata": {},
   "outputs": [
    {
     "data": {
      "text/plain": [
       "'3445'"
      ]
     },
     "execution_count": 103,
     "metadata": {},
     "output_type": "execute_result"
    }
   ],
   "source": [
    "a= '34'\n",
    "b='45'\n",
    "a+b"
   ]
  },
  {
   "cell_type": "code",
   "execution_count": 104,
   "id": "27c1b84b-c8a9-49fb-8106-9bc52506fb7a",
   "metadata": {},
   "outputs": [
    {
     "data": {
      "text/plain": [
       "[35, 454, 546, 35, 45, 654]"
      ]
     },
     "execution_count": 104,
     "metadata": {},
     "output_type": "execute_result"
    }
   ],
   "source": [
    "a=[35,454,546]\n",
    "b=[35,45,654]\n",
    "a+b"
   ]
  },
  {
   "cell_type": "code",
   "execution_count": 105,
   "id": "bb4a9ec0-0ee9-4718-a7ff-a9723ec78345",
   "metadata": {},
   "outputs": [
    {
     "data": {
      "text/plain": [
       "5"
      ]
     },
     "execution_count": 105,
     "metadata": {},
     "output_type": "execute_result"
    }
   ],
   "source": [
    "a='harry'\n",
    "len(a)"
   ]
  },
  {
   "cell_type": "code",
   "execution_count": 106,
   "id": "6014c1f9-2a92-44db-b83e-684d699ae1ce",
   "metadata": {},
   "outputs": [
    {
     "data": {
      "text/plain": [
       "2"
      ]
     },
     "execution_count": 106,
     "metadata": {},
     "output_type": "execute_result"
    }
   ],
   "source": [
    "a=['harry','jatin']\n",
    "len(a)"
   ]
  },
  {
   "cell_type": "code",
   "execution_count": 110,
   "id": "ebf720f5-509a-491c-8eaf-a364ced2c1d0",
   "metadata": {},
   "outputs": [
    {
     "data": {
      "text/plain": [
       "3"
      ]
     },
     "execution_count": 110,
     "metadata": {},
     "output_type": "execute_result"
    }
   ],
   "source": [
    "a=str(567)\n",
    "len(a)"
   ]
  },
  {
   "cell_type": "code",
   "execution_count": 112,
   "id": "46fa2502-54f7-4c34-bacb-84f6f7e48acd",
   "metadata": {},
   "outputs": [
    {
     "name": "stdout",
     "output_type": "stream",
     "text": [
      "None <class 'NoneType'>\n"
     ]
    }
   ],
   "source": [
    "a=45\n",
    "a='45'\n",
    "a=None\n",
    "print(a,type(a))"
   ]
  },
  {
   "cell_type": "code",
   "execution_count": 113,
   "id": "9e09587a-d02c-4ea9-9fe4-e535c1c4201a",
   "metadata": {},
   "outputs": [],
   "source": [
    "class Animal:\n",
    "    def speak(self):\n",
    "        print(\"The animal makes a sound\")\n",
    "\n",
    "class Dog(Animal):\n",
    "    def speak(self):  \n",
    "        print(\"The dog barks\")"
   ]
  },
  {
   "cell_type": "code",
   "execution_count": 114,
   "id": "8a593779-db35-4bf6-b0ff-2d6032f3c776",
   "metadata": {},
   "outputs": [],
   "source": [
    "Rachit=Animal()"
   ]
  },
  {
   "cell_type": "code",
   "execution_count": 115,
   "id": "eae1d804-9a38-45e8-8b50-ae27902fa2dc",
   "metadata": {},
   "outputs": [
    {
     "name": "stdout",
     "output_type": "stream",
     "text": [
      "The animal makes a sound\n"
     ]
    }
   ],
   "source": [
    "Rachit.speak()"
   ]
  },
  {
   "cell_type": "code",
   "execution_count": 119,
   "id": "ed514a62-37f7-4929-8cc0-2f5bf88828df",
   "metadata": {},
   "outputs": [
    {
     "name": "stdout",
     "output_type": "stream",
     "text": [
      "f1 car speed: max speed 200\n",
      "f1 car speed: max spped 250\n",
      "f1 car speed: max speed 300\n"
     ]
    }
   ],
   "source": [
    "class Car:\n",
    "    def speed(self):\n",
    "        return('max speed 200')\n",
    "\n",
    "    def auto_pilot(self):\n",
    "        return('it supports auto pilot')\n",
    "\n",
    "    def info(self):\n",
    "        return('a car object')\n",
    "\n",
    "class BMW(Car):\n",
    "    def speed(self):\n",
    "        return('max spped 250')\n",
    "\n",
    "    def info(self):\n",
    "        return('a BMW car object')\n",
    "\n",
    "class Audi(Car):\n",
    "    def speed(self):\n",
    "        return('max speed 300')\n",
    "        \n",
    "    def info(self):\n",
    "        return('audi car object')\n",
    "\n",
    "\n",
    "for i in [Car,BMW,Audi]:\n",
    "    f1=i()\n",
    "    print('f1 car speed:',f1.speed())\n",
    "    \n",
    "\n",
    "        "
   ]
  },
  {
   "cell_type": "code",
   "execution_count": 120,
   "id": "0f0d611e-b6fb-42e3-a015-be7ead8ff839",
   "metadata": {},
   "outputs": [
    {
     "name": "stdout",
     "output_type": "stream",
     "text": [
      "max speed 200\n"
     ]
    }
   ],
   "source": [
    "f1=Car()\n",
    "print(f1.speed())"
   ]
  },
  {
   "cell_type": "code",
   "execution_count": 121,
   "id": "f7ba85f0-0f19-4acc-9106-8e5d78f006d5",
   "metadata": {},
   "outputs": [
    {
     "name": "stdout",
     "output_type": "stream",
     "text": [
      "max spped 250\n"
     ]
    }
   ],
   "source": [
    "f1=BMW()\n",
    "print(f1.speed())"
   ]
  },
  {
   "cell_type": "code",
   "execution_count": 122,
   "id": "e5f29d95-4d26-4ac6-9b63-7c6484e0f787",
   "metadata": {},
   "outputs": [
    {
     "name": "stdout",
     "output_type": "stream",
     "text": [
      "max speed 300\n"
     ]
    }
   ],
   "source": [
    "f1=Audi()\n",
    "print(f1.speed())"
   ]
  },
  {
   "cell_type": "code",
   "execution_count": 125,
   "id": "b5ca4b5f-616d-4034-b290-b10b443fc695",
   "metadata": {},
   "outputs": [
    {
     "data": {
      "text/plain": [
       "'max speed 300'"
      ]
     },
     "execution_count": 125,
     "metadata": {},
     "output_type": "execute_result"
    }
   ],
   "source": [
    "f1.speed()"
   ]
  },
  {
   "cell_type": "code",
   "execution_count": null,
   "id": "9bc65d2b-a201-4019-bd9c-08a676c84504",
   "metadata": {},
   "outputs": [],
   "source": []
  },
  {
   "cell_type": "code",
   "execution_count": 134,
   "id": "c50eba2b-440a-4156-9d81-231712801ec5",
   "metadata": {},
   "outputs": [
    {
     "name": "stdout",
     "output_type": "stream",
     "text": [
      "hello ajay,how are you\n",
      "your address is delhi\n"
     ]
    }
   ],
   "source": [
    "class IITM:\n",
    "    def intro(self):\n",
    "        print('hello candidates')\n",
    "\n",
    "\n",
    "    def intro(self,name):\n",
    "        print(f'hello {name},how are you')    \n",
    "\n",
    "    def intro(self,name,address):\n",
    "        print(f'hello {name},how are you')\n",
    "        print(f'your address is {address}')\n",
    "\n",
    "a=IITM()\n",
    "a.intro('ajay','delhi')\n",
    "        "
   ]
  },
  {
   "cell_type": "code",
   "execution_count": null,
   "id": "dbb9fd8b-5422-4f31-9368-d507d7079508",
   "metadata": {},
   "outputs": [],
   "source": []
  },
  {
   "cell_type": "code",
   "execution_count": 154,
   "id": "c1afdc4f-382a-4c7f-b17f-70ffa3d20317",
   "metadata": {},
   "outputs": [],
   "source": [
    "class IITM:\n",
    "    def intro(self,name=None,address=None):\n",
    "        if (name==None) and(address==None):\n",
    "            print('hello candidates')\n",
    "\n",
    "\n",
    "        elif name!=None and(address==None):\n",
    "            print(f'hello{name}, how are you')\n",
    "\n",
    "\n",
    "        elif (name!=None) and (address!=None):\n",
    "            print(f'hello {name},how are you')\n",
    "            print(f'your address is {address}')\n",
    "\n",
    "\n",
    "        else:\n",
    "            print('hello buddy')\n",
    "\n",
    "\n",
    "            \n",
    "\n",
    "\n",
    "              \n",
    "            \n",
    "        \n",
    "        "
   ]
  },
  {
   "cell_type": "code",
   "execution_count": 155,
   "id": "d0caf35d-4546-442e-82d7-02478896d4c6",
   "metadata": {},
   "outputs": [],
   "source": [
    "Rachit=IITM()"
   ]
  },
  {
   "cell_type": "code",
   "execution_count": 156,
   "id": "52b6f468-494b-4bf0-830f-87cf16e7c3bd",
   "metadata": {},
   "outputs": [
    {
     "name": "stdout",
     "output_type": "stream",
     "text": [
      "hello candidates\n"
     ]
    }
   ],
   "source": [
    "Rachit.intro()"
   ]
  },
  {
   "cell_type": "code",
   "execution_count": 157,
   "id": "c62c8c9e-ee90-4975-8f8e-520c17d9cf10",
   "metadata": {},
   "outputs": [
    {
     "name": "stdout",
     "output_type": "stream",
     "text": [
      "hellofazal, how are you\n"
     ]
    }
   ],
   "source": [
    "Rachit.intro('fazal')"
   ]
  },
  {
   "cell_type": "code",
   "execution_count": 160,
   "id": "eafc439c-76dd-4efa-ae7e-f96ae0e4f389",
   "metadata": {},
   "outputs": [
    {
     "name": "stdout",
     "output_type": "stream",
     "text": [
      "hello Fazal,how are you\n",
      "your address is Delhi\n"
     ]
    }
   ],
   "source": [
    "Rachit.intro('Fazal','Delhi')"
   ]
  },
  {
   "cell_type": "code",
   "execution_count": 161,
   "id": "f6007477-81f1-4740-ac3f-5f5dfdc8a0ca",
   "metadata": {},
   "outputs": [
    {
     "name": "stdout",
     "output_type": "stream",
     "text": [
      "hello buddy\n"
     ]
    }
   ],
   "source": [
    "Rachit.intro(address='Delhi')"
   ]
  },
  {
   "cell_type": "markdown",
   "id": "328cac1a-32de-4187-b192-e3bb58f3fa75",
   "metadata": {},
   "source": [
    "#ABSTRACTION"
   ]
  },
  {
   "cell_type": "code",
   "execution_count": 171,
   "id": "881e23c7-0623-4714-b71c-c28c26b3108b",
   "metadata": {},
   "outputs": [
    {
     "ename": "TypeError",
     "evalue": "Can't instantiate abstract class Website without an implementation for abstract methods 'login', 'logout'",
     "output_type": "error",
     "traceback": [
      "\u001b[1;31m---------------------------------------------------------------------------\u001b[0m",
      "\u001b[1;31mTypeError\u001b[0m                                 Traceback (most recent call last)",
      "Cell \u001b[1;32mIn[171], line 13\u001b[0m\n\u001b[0;32m      8\u001b[0m     \u001b[38;5;129m@abstractmethod\u001b[39m\n\u001b[0;32m      9\u001b[0m     \u001b[38;5;28;01mdef\u001b[39;00m\u001b[38;5;250m \u001b[39m\u001b[38;5;21mlogout\u001b[39m(\u001b[38;5;28mself\u001b[39m):\n\u001b[0;32m     10\u001b[0m         \u001b[38;5;28mprint\u001b[39m(\u001b[38;5;124m'\u001b[39m\u001b[38;5;124ma logout method\u001b[39m\u001b[38;5;124m'\u001b[39m)\n\u001b[1;32m---> 13\u001b[0m asus\u001b[38;5;241m=\u001b[39mWebsite()\n\u001b[0;32m     14\u001b[0m \u001b[38;5;28mprint\u001b[39m(\u001b[38;5;124m'\u001b[39m\u001b[38;5;124mdone\u001b[39m\u001b[38;5;124m'\u001b[39m)\n",
      "\u001b[1;31mTypeError\u001b[0m: Can't instantiate abstract class Website without an implementation for abstract methods 'login', 'logout'"
     ]
    }
   ],
   "source": [
    "from abc import ABC, abstractmethod\n",
    "\n",
    "class Website(ABC):\n",
    "    @abstractmethod\n",
    "    def login(self):\n",
    "        print('this is a login method')\n",
    "        \n",
    "    @abstractmethod\n",
    "    def logout(self):\n",
    "        print('a logout method')\n",
    "\n",
    "\n",
    "asus=Website()\n",
    "print('done')"
   ]
  },
  {
   "cell_type": "code",
   "execution_count": 181,
   "id": "fcc82267-6e59-4f0d-b6ec-3e9aa18e9e7e",
   "metadata": {},
   "outputs": [],
   "source": [
    "class Nakul(Website):\n",
    "    def signup(self):\n",
    "        print('user can signup')\n",
    "\n",
    "    def login(self):\n",
    "        print('this is a login form')\n",
    "\n",
    "    def logout(self):\n",
    "        print('user can logout')\n",
    "\n",
    "\n",
    "    \n",
    "\n",
    "google=Nakul()        "
   ]
  },
  {
   "cell_type": "code",
   "execution_count": 182,
   "id": "48a821b5-9634-4f59-9b68-437c33016e9c",
   "metadata": {},
   "outputs": [
    {
     "data": {
      "text/plain": [
       "<__main__.Nakul at 0x1d27f7b1400>"
      ]
     },
     "execution_count": 182,
     "metadata": {},
     "output_type": "execute_result"
    }
   ],
   "source": [
    "google"
   ]
  },
  {
   "cell_type": "code",
   "execution_count": 183,
   "id": "1520b14c-6fd3-49b1-929f-5222c0bb16bf",
   "metadata": {},
   "outputs": [
    {
     "name": "stdout",
     "output_type": "stream",
     "text": [
      "this is a login form\n"
     ]
    }
   ],
   "source": [
    "google.login()"
   ]
  },
  {
   "cell_type": "code",
   "execution_count": 184,
   "id": "62f2891f-50c9-4221-a8b5-76d17b76d8d1",
   "metadata": {},
   "outputs": [
    {
     "name": "stdout",
     "output_type": "stream",
     "text": [
      "user can signup\n"
     ]
    }
   ],
   "source": [
    "google.signup()"
   ]
  },
  {
   "cell_type": "code",
   "execution_count": null,
   "id": "2d22059a-00ef-4db6-bcaf-a35bf4a09247",
   "metadata": {},
   "outputs": [],
   "source": []
  }
 ],
 "metadata": {
  "kernelspec": {
   "display_name": "Python 3 (ipykernel)",
   "language": "python",
   "name": "python3"
  },
  "language_info": {
   "codemirror_mode": {
    "name": "ipython",
    "version": 3
   },
   "file_extension": ".py",
   "mimetype": "text/x-python",
   "name": "python",
   "nbconvert_exporter": "python",
   "pygments_lexer": "ipython3",
   "version": "3.13.5"
  }
 },
 "nbformat": 4,
 "nbformat_minor": 5
}
